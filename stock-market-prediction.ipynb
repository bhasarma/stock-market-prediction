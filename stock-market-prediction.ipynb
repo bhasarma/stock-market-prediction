{
 "cells": [
  {
   "cell_type": "markdown",
   "id": "dc35b8e1",
   "metadata": {},
   "source": [
    "In this project on stock market prediction, I plan to train the dataset on the following models.\n",
    "\n",
    "- Auto ARIMAX<br>\n",
    "- Facebook Prophet<br>\n",
    "- LightGBM<br>\n",
    "- LSTM<br>"
   ]
  },
  {
   "cell_type": "markdown",
   "id": "7b3f816a",
   "metadata": {},
   "source": [
    "- Below, `%reload_ext autoreload` is a magic command in jupyter notebook that enables autoreloading of imported modules in IPython. It allows changes made to a module's code to be immediately reflected in the notebook, without having to manually restart the kernel or reload the module.\n",
    "- `%autoreload 2` reloads all modules before executing a new line of code.\n",
    "- `%matplotlib inline` helps to make visualization within the notebook"
   ]
  },
  {
   "cell_type": "code",
   "execution_count": 1,
   "id": "d6f8bbef",
   "metadata": {},
   "outputs": [],
   "source": [
    "# INITIALIZATION: \n",
    "%reload_ext autoreload\n",
    "%autoreload 2\n",
    "%matplotlib inline"
   ]
  },
  {
   "cell_type": "markdown",
   "id": "92ad5a1b",
   "metadata": {},
   "source": [
    "# 1. Getting the required packages "
   ]
  },
  {
   "cell_type": "markdown",
   "id": "350f5209",
   "metadata": {},
   "source": [
    "We first have to install the following packages using pip.\n",
    "- package `pmdarima` for importing `auto_arima` module to train dataset with Auto ARIMAX model\n",
    "- prophet for training Facebook Prophet\n",
    "- lightgbm"
   ]
  },
  {
   "cell_type": "code",
   "execution_count": 2,
   "id": "236a2730",
   "metadata": {
    "scrolled": false
   },
   "outputs": [],
   "source": [
    "#installing packages\n",
    "\n",
    "#uncomment below if packages are not already installed in your local environment\n",
    "#!pip install pmdarima\n",
    "#!pip install lightgbm\n",
    "#!pip install prophet --no-cache-dir"
   ]
  },
  {
   "cell_type": "markdown",
   "id": "495282ef",
   "metadata": {},
   "source": [
    "A `!` mark is needed before `pip` for shell command. If you are installing it in your local machine from command line interface (CLI), then you don't need this exclamation (`!`) mark.  "
   ]
  },
  {
   "cell_type": "code",
   "execution_count": 3,
   "id": "c1427180",
   "metadata": {},
   "outputs": [
    {
     "name": "stderr",
     "output_type": "stream",
     "text": [
      "Importing plotly failed. Interactive plots will not work.\n"
     ]
    }
   ],
   "source": [
    "# importing PACKAGES:\n",
    "\n",
    "# data analysis\n",
    "import numpy as np\n",
    "import pandas as pd\n",
    "\n",
    "#ML model training\n",
    "from pmdarima import auto_arima\n",
    "from prophet import Prophet\n",
    "import lightgbm as lgb\n",
    "\n",
    "#evaluation metric\n",
    "from sklearn.metrics import mean_absolute_error, mean_squared_error\n",
    "\n",
    "#visualization\n",
    "import matplotlib.pyplot as plt\n",
    "import seaborn as sns"
   ]
  },
  {
   "cell_type": "markdown",
   "id": "90e49b91",
   "metadata": {},
   "source": [
    "# 2. Getting the dataset\n",
    "\n",
    "- For link to the dataset: [Click here](https://www.kaggle.com/datasets/aayushmishra1512/faang-complete-stock-data?select=Netflix.csv).<br>\n",
    "\n",
    "- Above dataset contains stocks of Apple for about 40 years from 1980 to 2020 "
   ]
  },
  {
   "cell_type": "code",
   "execution_count": 9,
   "id": "f39c2670",
   "metadata": {},
   "outputs": [
    {
     "name": "stdout",
     "output_type": "stream",
     "text": [
      "Apple.csv  ICICIBANK.csv  LICENSE  README.md  stock-market-prediction.ipynb\r\n"
     ]
    }
   ],
   "source": [
    "# make sure dataset with -csv extension is there in the directory\n",
    "!ls"
   ]
  },
  {
   "cell_type": "code",
   "execution_count": 10,
   "id": "fef06f7f",
   "metadata": {},
   "outputs": [],
   "source": [
    "#1. use read_csv function from pandas libraray to read the dataset \n",
    "#2. store contents of the file in a DataFrame object df\n",
    "df = pd.read_csv(\"Apple.csv\")"
   ]
  },
  {
   "cell_type": "code",
   "execution_count": 11,
   "id": "c21f9040",
   "metadata": {},
   "outputs": [
    {
     "data": {
      "text/html": [
       "<div>\n",
       "<style scoped>\n",
       "    .dataframe tbody tr th:only-of-type {\n",
       "        vertical-align: middle;\n",
       "    }\n",
       "\n",
       "    .dataframe tbody tr th {\n",
       "        vertical-align: top;\n",
       "    }\n",
       "\n",
       "    .dataframe thead th {\n",
       "        text-align: right;\n",
       "    }\n",
       "</style>\n",
       "<table border=\"1\" class=\"dataframe\">\n",
       "  <thead>\n",
       "    <tr style=\"text-align: right;\">\n",
       "      <th></th>\n",
       "      <th>Date</th>\n",
       "      <th>Open</th>\n",
       "      <th>High</th>\n",
       "      <th>Low</th>\n",
       "      <th>Close</th>\n",
       "      <th>Adj Close</th>\n",
       "      <th>Volume</th>\n",
       "    </tr>\n",
       "  </thead>\n",
       "  <tbody>\n",
       "    <tr>\n",
       "      <th>0</th>\n",
       "      <td>1980-12-12</td>\n",
       "      <td>0.128348</td>\n",
       "      <td>0.128906</td>\n",
       "      <td>0.128348</td>\n",
       "      <td>0.128348</td>\n",
       "      <td>0.101261</td>\n",
       "      <td>469033600.0</td>\n",
       "    </tr>\n",
       "    <tr>\n",
       "      <th>1</th>\n",
       "      <td>1980-12-15</td>\n",
       "      <td>0.122210</td>\n",
       "      <td>0.122210</td>\n",
       "      <td>0.121652</td>\n",
       "      <td>0.121652</td>\n",
       "      <td>0.095978</td>\n",
       "      <td>175884800.0</td>\n",
       "    </tr>\n",
       "    <tr>\n",
       "      <th>2</th>\n",
       "      <td>1980-12-16</td>\n",
       "      <td>0.113281</td>\n",
       "      <td>0.113281</td>\n",
       "      <td>0.112723</td>\n",
       "      <td>0.112723</td>\n",
       "      <td>0.088934</td>\n",
       "      <td>105728000.0</td>\n",
       "    </tr>\n",
       "    <tr>\n",
       "      <th>3</th>\n",
       "      <td>1980-12-17</td>\n",
       "      <td>0.115513</td>\n",
       "      <td>0.116071</td>\n",
       "      <td>0.115513</td>\n",
       "      <td>0.115513</td>\n",
       "      <td>0.091135</td>\n",
       "      <td>86441600.0</td>\n",
       "    </tr>\n",
       "    <tr>\n",
       "      <th>4</th>\n",
       "      <td>1980-12-18</td>\n",
       "      <td>0.118862</td>\n",
       "      <td>0.119420</td>\n",
       "      <td>0.118862</td>\n",
       "      <td>0.118862</td>\n",
       "      <td>0.093777</td>\n",
       "      <td>73449600.0</td>\n",
       "    </tr>\n",
       "  </tbody>\n",
       "</table>\n",
       "</div>"
      ],
      "text/plain": [
       "         Date      Open      High       Low     Close  Adj Close       Volume\n",
       "0  1980-12-12  0.128348  0.128906  0.128348  0.128348   0.101261  469033600.0\n",
       "1  1980-12-15  0.122210  0.122210  0.121652  0.121652   0.095978  175884800.0\n",
       "2  1980-12-16  0.113281  0.113281  0.112723  0.112723   0.088934  105728000.0\n",
       "3  1980-12-17  0.115513  0.116071  0.115513  0.115513   0.091135   86441600.0\n",
       "4  1980-12-18  0.118862  0.119420  0.118862  0.118862   0.093777   73449600.0"
      ]
     },
     "execution_count": 11,
     "metadata": {},
     "output_type": "execute_result"
    }
   ],
   "source": [
    "#print first 5 rows of the dtatset\n",
    "df.head()"
   ]
  },
  {
   "cell_type": "markdown",
   "id": "bd865490",
   "metadata": {},
   "source": [
    "In the above dataset, \n",
    "- `Date` is in yyyy-mm-dd format\n",
    "- **Volume**  is the **target variable** to predict. "
   ]
  },
  {
   "cell_type": "markdown",
   "id": "57c91fca",
   "metadata": {},
   "source": [
    "## 3. Getting to know the dataset"
   ]
  },
  {
   "cell_type": "code",
   "execution_count": 14,
   "id": "2ef3fe32",
   "metadata": {},
   "outputs": [
    {
     "data": {
      "text/plain": [
       "date          object\n",
       "open         float64\n",
       "high         float64\n",
       "low          float64\n",
       "close        float64\n",
       "adj_close    float64\n",
       "volume       float64\n",
       "dtype: object"
      ]
     },
     "execution_count": 14,
     "metadata": {},
     "output_type": "execute_result"
    }
   ],
   "source": [
    "df.dtypes"
   ]
  },
  {
   "cell_type": "markdown",
   "id": "04de70a7",
   "metadata": {},
   "source": [
    "We see that, all features are numerics except, date. This makes sense. All features have their right datatype."
   ]
  },
  {
   "cell_type": "code",
   "execution_count": 16,
   "id": "44d1a8c7",
   "metadata": {},
   "outputs": [
    {
     "name": "stdout",
     "output_type": "stream",
     "text": [
      "<class 'pandas.core.frame.DataFrame'>\n",
      "RangeIndex: 10016 entries, 0 to 10015\n",
      "Data columns (total 7 columns):\n",
      " #   Column     Non-Null Count  Dtype  \n",
      "---  ------     --------------  -----  \n",
      " 0   date       10016 non-null  object \n",
      " 1   open       10015 non-null  float64\n",
      " 2   high       10015 non-null  float64\n",
      " 3   low        10015 non-null  float64\n",
      " 4   close      10015 non-null  float64\n",
      " 5   adj_close  10015 non-null  float64\n",
      " 6   volume     10015 non-null  float64\n",
      "dtypes: float64(6), object(1)\n",
      "memory usage: 547.9+ KB\n"
     ]
    }
   ],
   "source": [
    "# Getting the basic information about the dataset:\n",
    "df.info()"
   ]
  },
  {
   "cell_type": "code",
   "execution_count": 18,
   "id": "11386a0e",
   "metadata": {},
   "outputs": [
    {
     "data": {
      "text/plain": [
       "(10016, 7)"
      ]
     },
     "execution_count": 18,
     "metadata": {},
     "output_type": "execute_result"
    }
   ],
   "source": [
    "df.shape"
   ]
  },
  {
   "cell_type": "code",
   "execution_count": 19,
   "id": "af83c9f7",
   "metadata": {},
   "outputs": [
    {
     "data": {
      "text/html": [
       "<div>\n",
       "<style scoped>\n",
       "    .dataframe tbody tr th:only-of-type {\n",
       "        vertical-align: middle;\n",
       "    }\n",
       "\n",
       "    .dataframe tbody tr th {\n",
       "        vertical-align: top;\n",
       "    }\n",
       "\n",
       "    .dataframe thead th {\n",
       "        text-align: right;\n",
       "    }\n",
       "</style>\n",
       "<table border=\"1\" class=\"dataframe\">\n",
       "  <thead>\n",
       "    <tr style=\"text-align: right;\">\n",
       "      <th></th>\n",
       "      <th>open</th>\n",
       "      <th>high</th>\n",
       "      <th>low</th>\n",
       "      <th>close</th>\n",
       "      <th>adj_close</th>\n",
       "      <th>volume</th>\n",
       "    </tr>\n",
       "  </thead>\n",
       "  <tbody>\n",
       "    <tr>\n",
       "      <th>count</th>\n",
       "      <td>10015.00</td>\n",
       "      <td>10015.00</td>\n",
       "      <td>10015.00</td>\n",
       "      <td>10015.00</td>\n",
       "      <td>10015.00</td>\n",
       "      <td>1.001500e+04</td>\n",
       "    </tr>\n",
       "    <tr>\n",
       "      <th>mean</th>\n",
       "      <td>9.01</td>\n",
       "      <td>9.11</td>\n",
       "      <td>8.92</td>\n",
       "      <td>9.02</td>\n",
       "      <td>8.48</td>\n",
       "      <td>3.413188e+08</td>\n",
       "    </tr>\n",
       "    <tr>\n",
       "      <th>std</th>\n",
       "      <td>16.84</td>\n",
       "      <td>17.03</td>\n",
       "      <td>16.68</td>\n",
       "      <td>16.87</td>\n",
       "      <td>16.47</td>\n",
       "      <td>3.426534e+08</td>\n",
       "    </tr>\n",
       "    <tr>\n",
       "      <th>min</th>\n",
       "      <td>0.05</td>\n",
       "      <td>0.05</td>\n",
       "      <td>0.05</td>\n",
       "      <td>0.05</td>\n",
       "      <td>0.04</td>\n",
       "      <td>1.388800e+06</td>\n",
       "    </tr>\n",
       "    <tr>\n",
       "      <th>25%</th>\n",
       "      <td>0.27</td>\n",
       "      <td>0.28</td>\n",
       "      <td>0.26</td>\n",
       "      <td>0.27</td>\n",
       "      <td>0.23</td>\n",
       "      <td>1.315944e+08</td>\n",
       "    </tr>\n",
       "    <tr>\n",
       "      <th>50%</th>\n",
       "      <td>0.44</td>\n",
       "      <td>0.45</td>\n",
       "      <td>0.43</td>\n",
       "      <td>0.44</td>\n",
       "      <td>0.37</td>\n",
       "      <td>2.285380e+08</td>\n",
       "    </tr>\n",
       "    <tr>\n",
       "      <th>75%</th>\n",
       "      <td>10.06</td>\n",
       "      <td>10.18</td>\n",
       "      <td>9.89</td>\n",
       "      <td>10.10</td>\n",
       "      <td>8.73</td>\n",
       "      <td>4.250092e+08</td>\n",
       "    </tr>\n",
       "    <tr>\n",
       "      <th>max</th>\n",
       "      <td>132.76</td>\n",
       "      <td>134.80</td>\n",
       "      <td>130.53</td>\n",
       "      <td>134.18</td>\n",
       "      <td>134.18</td>\n",
       "      <td>7.421641e+09</td>\n",
       "    </tr>\n",
       "  </tbody>\n",
       "</table>\n",
       "</div>"
      ],
      "text/plain": [
       "           open      high       low     close  adj_close        volume\n",
       "count  10015.00  10015.00  10015.00  10015.00   10015.00  1.001500e+04\n",
       "mean       9.01      9.11      8.92      9.02       8.48  3.413188e+08\n",
       "std       16.84     17.03     16.68     16.87      16.47  3.426534e+08\n",
       "min        0.05      0.05      0.05      0.05       0.04  1.388800e+06\n",
       "25%        0.27      0.28      0.26      0.27       0.23  1.315944e+08\n",
       "50%        0.44      0.45      0.43      0.44       0.37  2.285380e+08\n",
       "75%       10.06     10.18      9.89     10.10       8.73  4.250092e+08\n",
       "max      132.76    134.80    130.53    134.18     134.18  7.421641e+09"
      ]
     },
     "execution_count": 19,
     "metadata": {},
     "output_type": "execute_result"
    }
   ],
   "source": [
    "df.describe().round(2)"
   ]
  },
  {
   "cell_type": "code",
   "execution_count": 20,
   "id": "873803a7",
   "metadata": {},
   "outputs": [
    {
     "data": {
      "text/plain": [
       "'1980-12-12'"
      ]
     },
     "execution_count": 20,
     "metadata": {},
     "output_type": "execute_result"
    }
   ],
   "source": [
    "df['Date'].min()"
   ]
  },
  {
   "cell_type": "code",
   "execution_count": 22,
   "id": "4150e59b",
   "metadata": {},
   "outputs": [
    {
     "data": {
      "text/plain": [
       "'2020-09-01'"
      ]
     },
     "execution_count": 22,
     "metadata": {},
     "output_type": "execute_result"
    }
   ],
   "source": [
    "df['Date'].max()"
   ]
  },
  {
   "cell_type": "markdown",
   "id": "737ee337",
   "metadata": {},
   "source": [
    "Thus we have have datas for about 40 years in 10k rows."
   ]
  },
  {
   "cell_type": "markdown",
   "id": "a21e9921",
   "metadata": {},
   "source": [
    "## 4. formatting the dataset "
   ]
  },
  {
   "cell_type": "markdown",
   "id": "2c1ce1d0",
   "metadata": {},
   "source": [
    "#### Making all feature names consistent i.e. all are small letters and spaces are replaced by a underscore `_` "
   ]
  },
  {
   "cell_type": "code",
   "execution_count": 23,
   "id": "9af3985f",
   "metadata": {},
   "outputs": [],
   "source": [
    "df.columns  = df.columns.str.lower().str.replace(' ','_')"
   ]
  },
  {
   "cell_type": "code",
   "execution_count": 24,
   "id": "3b5b83a0",
   "metadata": {},
   "outputs": [
    {
     "data": {
      "text/html": [
       "<div>\n",
       "<style scoped>\n",
       "    .dataframe tbody tr th:only-of-type {\n",
       "        vertical-align: middle;\n",
       "    }\n",
       "\n",
       "    .dataframe tbody tr th {\n",
       "        vertical-align: top;\n",
       "    }\n",
       "\n",
       "    .dataframe thead th {\n",
       "        text-align: right;\n",
       "    }\n",
       "</style>\n",
       "<table border=\"1\" class=\"dataframe\">\n",
       "  <thead>\n",
       "    <tr style=\"text-align: right;\">\n",
       "      <th></th>\n",
       "      <th>date</th>\n",
       "      <th>open</th>\n",
       "      <th>high</th>\n",
       "      <th>low</th>\n",
       "      <th>close</th>\n",
       "      <th>adj_close</th>\n",
       "      <th>volume</th>\n",
       "    </tr>\n",
       "  </thead>\n",
       "  <tbody>\n",
       "    <tr>\n",
       "      <th>0</th>\n",
       "      <td>1980-12-12</td>\n",
       "      <td>0.128348</td>\n",
       "      <td>0.128906</td>\n",
       "      <td>0.128348</td>\n",
       "      <td>0.128348</td>\n",
       "      <td>0.101261</td>\n",
       "      <td>469033600.0</td>\n",
       "    </tr>\n",
       "    <tr>\n",
       "      <th>1</th>\n",
       "      <td>1980-12-15</td>\n",
       "      <td>0.122210</td>\n",
       "      <td>0.122210</td>\n",
       "      <td>0.121652</td>\n",
       "      <td>0.121652</td>\n",
       "      <td>0.095978</td>\n",
       "      <td>175884800.0</td>\n",
       "    </tr>\n",
       "    <tr>\n",
       "      <th>2</th>\n",
       "      <td>1980-12-16</td>\n",
       "      <td>0.113281</td>\n",
       "      <td>0.113281</td>\n",
       "      <td>0.112723</td>\n",
       "      <td>0.112723</td>\n",
       "      <td>0.088934</td>\n",
       "      <td>105728000.0</td>\n",
       "    </tr>\n",
       "    <tr>\n",
       "      <th>3</th>\n",
       "      <td>1980-12-17</td>\n",
       "      <td>0.115513</td>\n",
       "      <td>0.116071</td>\n",
       "      <td>0.115513</td>\n",
       "      <td>0.115513</td>\n",
       "      <td>0.091135</td>\n",
       "      <td>86441600.0</td>\n",
       "    </tr>\n",
       "    <tr>\n",
       "      <th>4</th>\n",
       "      <td>1980-12-18</td>\n",
       "      <td>0.118862</td>\n",
       "      <td>0.119420</td>\n",
       "      <td>0.118862</td>\n",
       "      <td>0.118862</td>\n",
       "      <td>0.093777</td>\n",
       "      <td>73449600.0</td>\n",
       "    </tr>\n",
       "  </tbody>\n",
       "</table>\n",
       "</div>"
      ],
      "text/plain": [
       "         date      open      high       low     close  adj_close       volume\n",
       "0  1980-12-12  0.128348  0.128906  0.128348  0.128348   0.101261  469033600.0\n",
       "1  1980-12-15  0.122210  0.122210  0.121652  0.121652   0.095978  175884800.0\n",
       "2  1980-12-16  0.113281  0.113281  0.112723  0.112723   0.088934  105728000.0\n",
       "3  1980-12-17  0.115513  0.116071  0.115513  0.115513   0.091135   86441600.0\n",
       "4  1980-12-18  0.118862  0.119420  0.118862  0.118862   0.093777   73449600.0"
      ]
     },
     "execution_count": 24,
     "metadata": {},
     "output_type": "execute_result"
    }
   ],
   "source": [
    "df.head()"
   ]
  },
  {
   "cell_type": "markdown",
   "id": "80416c16",
   "metadata": {},
   "source": [
    "We have to change the datatype of `date` feature from `object` to `datetime` before we proceed with any time series analysis. Look into Pandas [time series](https://pandas.pydata.org/pandas-docs/stable/user_guide/timeseries.html) for these tools."
   ]
  },
  {
   "cell_type": "code",
   "execution_count": 25,
   "id": "a533a351",
   "metadata": {},
   "outputs": [],
   "source": [
    "# Converting the Date column from Object data type to Datetime64 format:\n",
    "df.date = pd.to_datetime(df.date)"
   ]
  },
  {
   "cell_type": "code",
   "execution_count": 26,
   "id": "a6b8c567",
   "metadata": {},
   "outputs": [
    {
     "name": "stdout",
     "output_type": "stream",
     "text": [
      "<class 'pandas.core.frame.DataFrame'>\n",
      "RangeIndex: 10016 entries, 0 to 10015\n",
      "Data columns (total 7 columns):\n",
      " #   Column     Non-Null Count  Dtype         \n",
      "---  ------     --------------  -----         \n",
      " 0   date       10016 non-null  datetime64[ns]\n",
      " 1   open       10015 non-null  float64       \n",
      " 2   high       10015 non-null  float64       \n",
      " 3   low        10015 non-null  float64       \n",
      " 4   close      10015 non-null  float64       \n",
      " 5   adj_close  10015 non-null  float64       \n",
      " 6   volume     10015 non-null  float64       \n",
      "dtypes: datetime64[ns](1), float64(6)\n",
      "memory usage: 547.9 KB\n"
     ]
    }
   ],
   "source": [
    "# Getting the basic information after dtype change:\n",
    "df.info()"
   ]
  },
  {
   "cell_type": "markdown",
   "id": "2b511e7e",
   "metadata": {},
   "source": [
    "We see that dtype of `date` is now changed to `datetime64[ns]`."
   ]
  },
  {
   "cell_type": "code",
   "execution_count": 27,
   "id": "9f601235",
   "metadata": {},
   "outputs": [
    {
     "data": {
      "text/plain": [
       "date         datetime64[ns]\n",
       "open                float64\n",
       "high                float64\n",
       "low                 float64\n",
       "close               float64\n",
       "adj_close           float64\n",
       "volume              float64\n",
       "dtype: object"
      ]
     },
     "execution_count": 27,
     "metadata": {},
     "output_type": "execute_result"
    }
   ],
   "source": [
    "df.dtypes"
   ]
  },
  {
   "cell_type": "code",
   "execution_count": 28,
   "id": "2e8e28b5",
   "metadata": {},
   "outputs": [
    {
     "data": {
      "text/plain": [
       "date         0\n",
       "open         1\n",
       "high         1\n",
       "low          1\n",
       "close        1\n",
       "adj_close    1\n",
       "volume       1\n",
       "dtype: int64"
      ]
     },
     "execution_count": 28,
     "metadata": {},
     "output_type": "execute_result"
    }
   ],
   "source": [
    "# Getting the sum count of missing values in each column:\n",
    "df.isnull().sum()"
   ]
  },
  {
   "cell_type": "markdown",
   "id": "dbc77831",
   "metadata": {},
   "source": [
    "We have very small amount of missing data. We can just neglect them."
   ]
  },
  {
   "cell_type": "markdown",
   "id": "c3830c7e",
   "metadata": {},
   "source": [
    "# 3. Splitting the dataset "
   ]
  },
  {
   "cell_type": "markdown",
   "id": "25dbbf9a",
   "metadata": {},
   "source": [
    "**REMEMBER** We don't shuffle data in time-series, because if we shuffle, then the model may know the future data by mistake."
   ]
  },
  {
   "cell_type": "markdown",
   "id": "6a29fb21",
   "metadata": {},
   "source": [
    "Splitting the data into train, validation and test (60/20/20) along with features.<br>"
   ]
  },
  {
   "cell_type": "code",
   "execution_count": 30,
   "id": "c9f54322",
   "metadata": {},
   "outputs": [],
   "source": [
    "from sklearn.model_selection import train_test_split"
   ]
  },
  {
   "cell_type": "code",
   "execution_count": 31,
   "id": "de9224cf",
   "metadata": {},
   "outputs": [],
   "source": [
    "df_full_train, df_test = train_test_split(df, test_size=0.2, shuffle = False)"
   ]
  },
  {
   "cell_type": "code",
   "execution_count": 32,
   "id": "ec15fbcb",
   "metadata": {},
   "outputs": [],
   "source": [
    "df_train, df_val = train_test_split(df_full_train, test_size=0.25, shuffle = False)"
   ]
  },
  {
   "cell_type": "code",
   "execution_count": 33,
   "id": "5571d924",
   "metadata": {},
   "outputs": [
    {
     "data": {
      "text/html": [
       "<div>\n",
       "<style scoped>\n",
       "    .dataframe tbody tr th:only-of-type {\n",
       "        vertical-align: middle;\n",
       "    }\n",
       "\n",
       "    .dataframe tbody tr th {\n",
       "        vertical-align: top;\n",
       "    }\n",
       "\n",
       "    .dataframe thead th {\n",
       "        text-align: right;\n",
       "    }\n",
       "</style>\n",
       "<table border=\"1\" class=\"dataframe\">\n",
       "  <thead>\n",
       "    <tr style=\"text-align: right;\">\n",
       "      <th></th>\n",
       "      <th>date</th>\n",
       "      <th>open</th>\n",
       "      <th>high</th>\n",
       "      <th>low</th>\n",
       "      <th>close</th>\n",
       "      <th>adj_close</th>\n",
       "      <th>volume</th>\n",
       "    </tr>\n",
       "  </thead>\n",
       "  <tbody>\n",
       "    <tr>\n",
       "      <th>6004</th>\n",
       "      <td>2004-09-27</td>\n",
       "      <td>0.659821</td>\n",
       "      <td>0.678214</td>\n",
       "      <td>0.657679</td>\n",
       "      <td>0.670179</td>\n",
       "      <td>0.579128</td>\n",
       "      <td>397516000.0</td>\n",
       "    </tr>\n",
       "    <tr>\n",
       "      <th>6005</th>\n",
       "      <td>2004-09-28</td>\n",
       "      <td>0.668929</td>\n",
       "      <td>0.683750</td>\n",
       "      <td>0.668750</td>\n",
       "      <td>0.679286</td>\n",
       "      <td>0.586997</td>\n",
       "      <td>353186400.0</td>\n",
       "    </tr>\n",
       "    <tr>\n",
       "      <th>6006</th>\n",
       "      <td>2004-09-29</td>\n",
       "      <td>0.677321</td>\n",
       "      <td>0.693929</td>\n",
       "      <td>0.675357</td>\n",
       "      <td>0.690714</td>\n",
       "      <td>0.596873</td>\n",
       "      <td>273509600.0</td>\n",
       "    </tr>\n",
       "    <tr>\n",
       "      <th>6007</th>\n",
       "      <td>2004-09-30</td>\n",
       "      <td>0.696429</td>\n",
       "      <td>0.701250</td>\n",
       "      <td>0.686607</td>\n",
       "      <td>0.691964</td>\n",
       "      <td>0.597953</td>\n",
       "      <td>425012000.0</td>\n",
       "    </tr>\n",
       "    <tr>\n",
       "      <th>6008</th>\n",
       "      <td>2004-10-01</td>\n",
       "      <td>0.698571</td>\n",
       "      <td>0.699821</td>\n",
       "      <td>0.688929</td>\n",
       "      <td>0.690536</td>\n",
       "      <td>0.596719</td>\n",
       "      <td>465404800.0</td>\n",
       "    </tr>\n",
       "  </tbody>\n",
       "</table>\n",
       "</div>"
      ],
      "text/plain": [
       "           date      open      high       low     close  adj_close  \\\n",
       "6004 2004-09-27  0.659821  0.678214  0.657679  0.670179   0.579128   \n",
       "6005 2004-09-28  0.668929  0.683750  0.668750  0.679286   0.586997   \n",
       "6006 2004-09-29  0.677321  0.693929  0.675357  0.690714   0.596873   \n",
       "6007 2004-09-30  0.696429  0.701250  0.686607  0.691964   0.597953   \n",
       "6008 2004-10-01  0.698571  0.699821  0.688929  0.690536   0.596719   \n",
       "\n",
       "           volume  \n",
       "6004  397516000.0  \n",
       "6005  353186400.0  \n",
       "6006  273509600.0  \n",
       "6007  425012000.0  \n",
       "6008  465404800.0  "
      ]
     },
     "execution_count": 33,
     "metadata": {},
     "output_type": "execute_result"
    }
   ],
   "source": [
    "df_train.tail()"
   ]
  },
  {
   "cell_type": "code",
   "execution_count": 34,
   "id": "f2726bd0",
   "metadata": {},
   "outputs": [
    {
     "data": {
      "text/html": [
       "<div>\n",
       "<style scoped>\n",
       "    .dataframe tbody tr th:only-of-type {\n",
       "        vertical-align: middle;\n",
       "    }\n",
       "\n",
       "    .dataframe tbody tr th {\n",
       "        vertical-align: top;\n",
       "    }\n",
       "\n",
       "    .dataframe thead th {\n",
       "        text-align: right;\n",
       "    }\n",
       "</style>\n",
       "<table border=\"1\" class=\"dataframe\">\n",
       "  <thead>\n",
       "    <tr style=\"text-align: right;\">\n",
       "      <th></th>\n",
       "      <th>date</th>\n",
       "      <th>open</th>\n",
       "      <th>high</th>\n",
       "      <th>low</th>\n",
       "      <th>close</th>\n",
       "      <th>adj_close</th>\n",
       "      <th>volume</th>\n",
       "    </tr>\n",
       "  </thead>\n",
       "  <tbody>\n",
       "    <tr>\n",
       "      <th>6009</th>\n",
       "      <td>2004-10-04</td>\n",
       "      <td>0.699643</td>\n",
       "      <td>0.699643</td>\n",
       "      <td>0.691964</td>\n",
       "      <td>0.692679</td>\n",
       "      <td>0.598571</td>\n",
       "      <td>574084000.0</td>\n",
       "    </tr>\n",
       "    <tr>\n",
       "      <th>6010</th>\n",
       "      <td>2004-10-05</td>\n",
       "      <td>0.688571</td>\n",
       "      <td>0.708393</td>\n",
       "      <td>0.685714</td>\n",
       "      <td>0.703036</td>\n",
       "      <td>0.607521</td>\n",
       "      <td>406162400.0</td>\n",
       "    </tr>\n",
       "    <tr>\n",
       "      <th>6011</th>\n",
       "      <td>2004-10-06</td>\n",
       "      <td>0.705357</td>\n",
       "      <td>0.727857</td>\n",
       "      <td>0.704821</td>\n",
       "      <td>0.725714</td>\n",
       "      <td>0.627118</td>\n",
       "      <td>446303200.0</td>\n",
       "    </tr>\n",
       "    <tr>\n",
       "      <th>6012</th>\n",
       "      <td>2004-10-07</td>\n",
       "      <td>0.723929</td>\n",
       "      <td>0.730893</td>\n",
       "      <td>0.704643</td>\n",
       "      <td>0.707500</td>\n",
       "      <td>0.611378</td>\n",
       "      <td>426148800.0</td>\n",
       "    </tr>\n",
       "    <tr>\n",
       "      <th>6013</th>\n",
       "      <td>2004-10-08</td>\n",
       "      <td>0.706429</td>\n",
       "      <td>0.710179</td>\n",
       "      <td>0.693571</td>\n",
       "      <td>0.697500</td>\n",
       "      <td>0.602737</td>\n",
       "      <td>359228800.0</td>\n",
       "    </tr>\n",
       "  </tbody>\n",
       "</table>\n",
       "</div>"
      ],
      "text/plain": [
       "           date      open      high       low     close  adj_close  \\\n",
       "6009 2004-10-04  0.699643  0.699643  0.691964  0.692679   0.598571   \n",
       "6010 2004-10-05  0.688571  0.708393  0.685714  0.703036   0.607521   \n",
       "6011 2004-10-06  0.705357  0.727857  0.704821  0.725714   0.627118   \n",
       "6012 2004-10-07  0.723929  0.730893  0.704643  0.707500   0.611378   \n",
       "6013 2004-10-08  0.706429  0.710179  0.693571  0.697500   0.602737   \n",
       "\n",
       "           volume  \n",
       "6009  574084000.0  \n",
       "6010  406162400.0  \n",
       "6011  446303200.0  \n",
       "6012  426148800.0  \n",
       "6013  359228800.0  "
      ]
     },
     "execution_count": 34,
     "metadata": {},
     "output_type": "execute_result"
    }
   ],
   "source": [
    "df_val.head()"
   ]
  },
  {
   "cell_type": "code",
   "execution_count": 35,
   "id": "3fa8c10c",
   "metadata": {},
   "outputs": [
    {
     "data": {
      "text/html": [
       "<div>\n",
       "<style scoped>\n",
       "    .dataframe tbody tr th:only-of-type {\n",
       "        vertical-align: middle;\n",
       "    }\n",
       "\n",
       "    .dataframe tbody tr th {\n",
       "        vertical-align: top;\n",
       "    }\n",
       "\n",
       "    .dataframe thead th {\n",
       "        text-align: right;\n",
       "    }\n",
       "</style>\n",
       "<table border=\"1\" class=\"dataframe\">\n",
       "  <thead>\n",
       "    <tr style=\"text-align: right;\">\n",
       "      <th></th>\n",
       "      <th>date</th>\n",
       "      <th>open</th>\n",
       "      <th>high</th>\n",
       "      <th>low</th>\n",
       "      <th>close</th>\n",
       "      <th>adj_close</th>\n",
       "      <th>volume</th>\n",
       "    </tr>\n",
       "  </thead>\n",
       "  <tbody>\n",
       "    <tr>\n",
       "      <th>8007</th>\n",
       "      <td>2012-09-07</td>\n",
       "      <td>24.216072</td>\n",
       "      <td>24.374287</td>\n",
       "      <td>24.134644</td>\n",
       "      <td>24.301428</td>\n",
       "      <td>21.089975</td>\n",
       "      <td>329666400.0</td>\n",
       "    </tr>\n",
       "    <tr>\n",
       "      <th>8008</th>\n",
       "      <td>2012-09-10</td>\n",
       "      <td>24.301786</td>\n",
       "      <td>24.403214</td>\n",
       "      <td>23.646429</td>\n",
       "      <td>23.669285</td>\n",
       "      <td>20.541376</td>\n",
       "      <td>487998000.0</td>\n",
       "    </tr>\n",
       "    <tr>\n",
       "      <th>8009</th>\n",
       "      <td>2012-09-11</td>\n",
       "      <td>23.753929</td>\n",
       "      <td>23.932142</td>\n",
       "      <td>23.446428</td>\n",
       "      <td>23.592501</td>\n",
       "      <td>20.474737</td>\n",
       "      <td>503983200.0</td>\n",
       "    </tr>\n",
       "    <tr>\n",
       "      <th>8010</th>\n",
       "      <td>2012-09-12</td>\n",
       "      <td>23.816071</td>\n",
       "      <td>23.924999</td>\n",
       "      <td>23.428572</td>\n",
       "      <td>23.921072</td>\n",
       "      <td>20.759890</td>\n",
       "      <td>712233200.0</td>\n",
       "    </tr>\n",
       "    <tr>\n",
       "      <th>8011</th>\n",
       "      <td>2012-09-13</td>\n",
       "      <td>24.191786</td>\n",
       "      <td>24.482143</td>\n",
       "      <td>24.098928</td>\n",
       "      <td>24.392143</td>\n",
       "      <td>21.168703</td>\n",
       "      <td>598360000.0</td>\n",
       "    </tr>\n",
       "  </tbody>\n",
       "</table>\n",
       "</div>"
      ],
      "text/plain": [
       "           date       open       high        low      close  adj_close  \\\n",
       "8007 2012-09-07  24.216072  24.374287  24.134644  24.301428  21.089975   \n",
       "8008 2012-09-10  24.301786  24.403214  23.646429  23.669285  20.541376   \n",
       "8009 2012-09-11  23.753929  23.932142  23.446428  23.592501  20.474737   \n",
       "8010 2012-09-12  23.816071  23.924999  23.428572  23.921072  20.759890   \n",
       "8011 2012-09-13  24.191786  24.482143  24.098928  24.392143  21.168703   \n",
       "\n",
       "           volume  \n",
       "8007  329666400.0  \n",
       "8008  487998000.0  \n",
       "8009  503983200.0  \n",
       "8010  712233200.0  \n",
       "8011  598360000.0  "
      ]
     },
     "execution_count": 35,
     "metadata": {},
     "output_type": "execute_result"
    }
   ],
   "source": [
    "df_val.tail()"
   ]
  },
  {
   "cell_type": "code",
   "execution_count": 36,
   "id": "0e9fa147",
   "metadata": {},
   "outputs": [
    {
     "data": {
      "text/html": [
       "<div>\n",
       "<style scoped>\n",
       "    .dataframe tbody tr th:only-of-type {\n",
       "        vertical-align: middle;\n",
       "    }\n",
       "\n",
       "    .dataframe tbody tr th {\n",
       "        vertical-align: top;\n",
       "    }\n",
       "\n",
       "    .dataframe thead th {\n",
       "        text-align: right;\n",
       "    }\n",
       "</style>\n",
       "<table border=\"1\" class=\"dataframe\">\n",
       "  <thead>\n",
       "    <tr style=\"text-align: right;\">\n",
       "      <th></th>\n",
       "      <th>date</th>\n",
       "      <th>open</th>\n",
       "      <th>high</th>\n",
       "      <th>low</th>\n",
       "      <th>close</th>\n",
       "      <th>adj_close</th>\n",
       "      <th>volume</th>\n",
       "    </tr>\n",
       "  </thead>\n",
       "  <tbody>\n",
       "    <tr>\n",
       "      <th>8012</th>\n",
       "      <td>2012-09-14</td>\n",
       "      <td>24.641428</td>\n",
       "      <td>24.892143</td>\n",
       "      <td>24.567499</td>\n",
       "      <td>24.688572</td>\n",
       "      <td>21.425959</td>\n",
       "      <td>600474000.0</td>\n",
       "    </tr>\n",
       "    <tr>\n",
       "      <th>8013</th>\n",
       "      <td>2012-09-17</td>\n",
       "      <td>24.976786</td>\n",
       "      <td>24.992857</td>\n",
       "      <td>24.807501</td>\n",
       "      <td>24.992144</td>\n",
       "      <td>21.689409</td>\n",
       "      <td>398031200.0</td>\n",
       "    </tr>\n",
       "    <tr>\n",
       "      <th>8014</th>\n",
       "      <td>2012-09-18</td>\n",
       "      <td>24.995714</td>\n",
       "      <td>25.083214</td>\n",
       "      <td>24.872143</td>\n",
       "      <td>25.068214</td>\n",
       "      <td>21.755436</td>\n",
       "      <td>373503200.0</td>\n",
       "    </tr>\n",
       "    <tr>\n",
       "      <th>8015</th>\n",
       "      <td>2012-09-19</td>\n",
       "      <td>25.009285</td>\n",
       "      <td>25.142500</td>\n",
       "      <td>24.984642</td>\n",
       "      <td>25.075001</td>\n",
       "      <td>21.761318</td>\n",
       "      <td>326874800.0</td>\n",
       "    </tr>\n",
       "    <tr>\n",
       "      <th>8016</th>\n",
       "      <td>2012-09-20</td>\n",
       "      <td>24.969999</td>\n",
       "      <td>25.002142</td>\n",
       "      <td>24.772142</td>\n",
       "      <td>24.953571</td>\n",
       "      <td>21.655943</td>\n",
       "      <td>336568400.0</td>\n",
       "    </tr>\n",
       "  </tbody>\n",
       "</table>\n",
       "</div>"
      ],
      "text/plain": [
       "           date       open       high        low      close  adj_close  \\\n",
       "8012 2012-09-14  24.641428  24.892143  24.567499  24.688572  21.425959   \n",
       "8013 2012-09-17  24.976786  24.992857  24.807501  24.992144  21.689409   \n",
       "8014 2012-09-18  24.995714  25.083214  24.872143  25.068214  21.755436   \n",
       "8015 2012-09-19  25.009285  25.142500  24.984642  25.075001  21.761318   \n",
       "8016 2012-09-20  24.969999  25.002142  24.772142  24.953571  21.655943   \n",
       "\n",
       "           volume  \n",
       "8012  600474000.0  \n",
       "8013  398031200.0  \n",
       "8014  373503200.0  \n",
       "8015  326874800.0  \n",
       "8016  336568400.0  "
      ]
     },
     "execution_count": 36,
     "metadata": {},
     "output_type": "execute_result"
    }
   ],
   "source": [
    "df_test.head()"
   ]
  },
  {
   "cell_type": "markdown",
   "id": "dd818ddd",
   "metadata": {},
   "source": [
    "We see above that splitting is done successfully without splitting."
   ]
  },
  {
   "cell_type": "code",
   "execution_count": 37,
   "id": "6e39dd86",
   "metadata": {},
   "outputs": [
    {
     "data": {
      "text/plain": [
       "(6009, 2003, 2004, 8012, 8012, 10016, 10016)"
      ]
     },
     "execution_count": 37,
     "metadata": {},
     "output_type": "execute_result"
    }
   ],
   "source": [
    "len(df_train), len(df_val), len(df_test), len(df_full_train),  len(df_train)+len(df_val), len(df_train)+len(df_val)+\\\n",
    "len(df_test), len(df)"
   ]
  },
  {
   "cell_type": "markdown",
   "id": "fb486962",
   "metadata": {},
   "source": [
    "Above we see that lengths of the dataframes are consistent."
   ]
  },
  {
   "cell_type": "markdown",
   "id": "9f84e82e",
   "metadata": {},
   "source": [
    "## 4. EDA on training dataset"
   ]
  },
  {
   "cell_type": "markdown",
   "id": "d4b064cc",
   "metadata": {},
   "source": [
    "## Missing value"
   ]
  },
  {
   "cell_type": "code",
   "execution_count": 38,
   "id": "d9b818b2",
   "metadata": {},
   "outputs": [
    {
     "data": {
      "text/html": [
       "<div>\n",
       "<style scoped>\n",
       "    .dataframe tbody tr th:only-of-type {\n",
       "        vertical-align: middle;\n",
       "    }\n",
       "\n",
       "    .dataframe tbody tr th {\n",
       "        vertical-align: top;\n",
       "    }\n",
       "\n",
       "    .dataframe thead th {\n",
       "        text-align: right;\n",
       "    }\n",
       "</style>\n",
       "<table border=\"1\" class=\"dataframe\">\n",
       "  <thead>\n",
       "    <tr style=\"text-align: right;\">\n",
       "      <th></th>\n",
       "      <th>date</th>\n",
       "      <th>open</th>\n",
       "      <th>high</th>\n",
       "      <th>low</th>\n",
       "      <th>close</th>\n",
       "      <th>adj_close</th>\n",
       "      <th>volume</th>\n",
       "    </tr>\n",
       "  </thead>\n",
       "  <tbody>\n",
       "    <tr>\n",
       "      <th>0</th>\n",
       "      <td>1980-12-12</td>\n",
       "      <td>0.128348</td>\n",
       "      <td>0.128906</td>\n",
       "      <td>0.128348</td>\n",
       "      <td>0.128348</td>\n",
       "      <td>0.101261</td>\n",
       "      <td>469033600.0</td>\n",
       "    </tr>\n",
       "    <tr>\n",
       "      <th>1</th>\n",
       "      <td>1980-12-15</td>\n",
       "      <td>0.122210</td>\n",
       "      <td>0.122210</td>\n",
       "      <td>0.121652</td>\n",
       "      <td>0.121652</td>\n",
       "      <td>0.095978</td>\n",
       "      <td>175884800.0</td>\n",
       "    </tr>\n",
       "    <tr>\n",
       "      <th>2</th>\n",
       "      <td>1980-12-16</td>\n",
       "      <td>0.113281</td>\n",
       "      <td>0.113281</td>\n",
       "      <td>0.112723</td>\n",
       "      <td>0.112723</td>\n",
       "      <td>0.088934</td>\n",
       "      <td>105728000.0</td>\n",
       "    </tr>\n",
       "    <tr>\n",
       "      <th>3</th>\n",
       "      <td>1980-12-17</td>\n",
       "      <td>0.115513</td>\n",
       "      <td>0.116071</td>\n",
       "      <td>0.115513</td>\n",
       "      <td>0.115513</td>\n",
       "      <td>0.091135</td>\n",
       "      <td>86441600.0</td>\n",
       "    </tr>\n",
       "    <tr>\n",
       "      <th>4</th>\n",
       "      <td>1980-12-18</td>\n",
       "      <td>0.118862</td>\n",
       "      <td>0.119420</td>\n",
       "      <td>0.118862</td>\n",
       "      <td>0.118862</td>\n",
       "      <td>0.093777</td>\n",
       "      <td>73449600.0</td>\n",
       "    </tr>\n",
       "  </tbody>\n",
       "</table>\n",
       "</div>"
      ],
      "text/plain": [
       "        date      open      high       low     close  adj_close       volume\n",
       "0 1980-12-12  0.128348  0.128906  0.128348  0.128348   0.101261  469033600.0\n",
       "1 1980-12-15  0.122210  0.122210  0.121652  0.121652   0.095978  175884800.0\n",
       "2 1980-12-16  0.113281  0.113281  0.112723  0.112723   0.088934  105728000.0\n",
       "3 1980-12-17  0.115513  0.116071  0.115513  0.115513   0.091135   86441600.0\n",
       "4 1980-12-18  0.118862  0.119420  0.118862  0.118862   0.093777   73449600.0"
      ]
     },
     "execution_count": 38,
     "metadata": {},
     "output_type": "execute_result"
    }
   ],
   "source": [
    "df_train.head()"
   ]
  },
  {
   "cell_type": "code",
   "execution_count": 39,
   "id": "985ef1b9",
   "metadata": {},
   "outputs": [
    {
     "data": {
      "text/plain": [
       "date         0\n",
       "open         1\n",
       "high         1\n",
       "low          1\n",
       "close        1\n",
       "adj_close    1\n",
       "volume       1\n",
       "dtype: int64"
      ]
     },
     "execution_count": 39,
     "metadata": {},
     "output_type": "execute_result"
    }
   ],
   "source": [
    "df_train.isnull().sum()"
   ]
  },
  {
   "cell_type": "markdown",
   "id": "784124ee",
   "metadata": {},
   "source": [
    "We have negligible number od missing values. We'll neglect them for now."
   ]
  },
  {
   "cell_type": "markdown",
   "id": "7288e8df",
   "metadata": {},
   "source": [
    "Let's plot the target variable `volume` over time"
   ]
  },
  {
   "cell_type": "code",
   "execution_count": 43,
   "id": "2f137aa9",
   "metadata": {},
   "outputs": [
    {
     "data": {
      "text/plain": [
       "<AxesSubplot: >"
      ]
     },
     "execution_count": 43,
     "metadata": {},
     "output_type": "execute_result"
    },
    {
     "data": {
      "image/png": "[encoded data removed]",
      "text/plain": [
       "<Figure size 1400x700 with 1 Axes>"
      ]
     },
     "metadata": {},
     "output_type": "display_data"
    }
   ],
   "source": [
    "df_train.volume.plot(figsize=(14, 7))"
   ]
  },
  {
   "cell_type": "markdown",
   "id": "f38d527a",
   "metadata": {},
   "source": [
    "In the above plot X-axis is along indices. It would be better to visualize with date. For this let's change indices into date and then plot again. "
   ]
  },
  {
   "cell_type": "code",
   "execution_count": 45,
   "id": "2f5213fe",
   "metadata": {},
   "outputs": [
    {
     "data": {
      "text/html": [
       "<div>\n",
       "<style scoped>\n",
       "    .dataframe tbody tr th:only-of-type {\n",
       "        vertical-align: middle;\n",
       "    }\n",
       "\n",
       "    .dataframe tbody tr th {\n",
       "        vertical-align: top;\n",
       "    }\n",
       "\n",
       "    .dataframe thead th {\n",
       "        text-align: right;\n",
       "    }\n",
       "</style>\n",
       "<table border=\"1\" class=\"dataframe\">\n",
       "  <thead>\n",
       "    <tr style=\"text-align: right;\">\n",
       "      <th></th>\n",
       "      <th>date</th>\n",
       "      <th>open</th>\n",
       "      <th>high</th>\n",
       "      <th>low</th>\n",
       "      <th>close</th>\n",
       "      <th>adj_close</th>\n",
       "      <th>volume</th>\n",
       "    </tr>\n",
       "    <tr>\n",
       "      <th>date</th>\n",
       "      <th></th>\n",
       "      <th></th>\n",
       "      <th></th>\n",
       "      <th></th>\n",
       "      <th></th>\n",
       "      <th></th>\n",
       "      <th></th>\n",
       "    </tr>\n",
       "  </thead>\n",
       "  <tbody>\n",
       "    <tr>\n",
       "      <th>1980-12-12</th>\n",
       "      <td>1980-12-12</td>\n",
       "      <td>0.128348</td>\n",
       "      <td>0.128906</td>\n",
       "      <td>0.128348</td>\n",
       "      <td>0.128348</td>\n",
       "      <td>0.101261</td>\n",
       "      <td>469033600.0</td>\n",
       "    </tr>\n",
       "    <tr>\n",
       "      <th>1980-12-15</th>\n",
       "      <td>1980-12-15</td>\n",
       "      <td>0.122210</td>\n",
       "      <td>0.122210</td>\n",
       "      <td>0.121652</td>\n",
       "      <td>0.121652</td>\n",
       "      <td>0.095978</td>\n",
       "      <td>175884800.0</td>\n",
       "    </tr>\n",
       "    <tr>\n",
       "      <th>1980-12-16</th>\n",
       "      <td>1980-12-16</td>\n",
       "      <td>0.113281</td>\n",
       "      <td>0.113281</td>\n",
       "      <td>0.112723</td>\n",
       "      <td>0.112723</td>\n",
       "      <td>0.088934</td>\n",
       "      <td>105728000.0</td>\n",
       "    </tr>\n",
       "    <tr>\n",
       "      <th>1980-12-17</th>\n",
       "      <td>1980-12-17</td>\n",
       "      <td>0.115513</td>\n",
       "      <td>0.116071</td>\n",
       "      <td>0.115513</td>\n",
       "      <td>0.115513</td>\n",
       "      <td>0.091135</td>\n",
       "      <td>86441600.0</td>\n",
       "    </tr>\n",
       "    <tr>\n",
       "      <th>1980-12-18</th>\n",
       "      <td>1980-12-18</td>\n",
       "      <td>0.118862</td>\n",
       "      <td>0.119420</td>\n",
       "      <td>0.118862</td>\n",
       "      <td>0.118862</td>\n",
       "      <td>0.093777</td>\n",
       "      <td>73449600.0</td>\n",
       "    </tr>\n",
       "  </tbody>\n",
       "</table>\n",
       "</div>"
      ],
      "text/plain": [
       "                 date      open      high       low     close  adj_close  \\\n",
       "date                                                                       \n",
       "1980-12-12 1980-12-12  0.128348  0.128906  0.128348  0.128348   0.101261   \n",
       "1980-12-15 1980-12-15  0.122210  0.122210  0.121652  0.121652   0.095978   \n",
       "1980-12-16 1980-12-16  0.113281  0.113281  0.112723  0.112723   0.088934   \n",
       "1980-12-17 1980-12-17  0.115513  0.116071  0.115513  0.115513   0.091135   \n",
       "1980-12-18 1980-12-18  0.118862  0.119420  0.118862  0.118862   0.093777   \n",
       "\n",
       "                 volume  \n",
       "date                     \n",
       "1980-12-12  469033600.0  \n",
       "1980-12-15  175884800.0  \n",
       "1980-12-16  105728000.0  \n",
       "1980-12-17   86441600.0  \n",
       "1980-12-18   73449600.0  "
      ]
     },
     "execution_count": 45,
     "metadata": {},
     "output_type": "execute_result"
    }
   ],
   "source": [
    "#set the DataFrame's index to the \"Date\" column\n",
    "#keep the Date column in the DataFrame\n",
    "#inplace=True modifies the DataFrame in place instead of returning a new one.\n",
    "df_train.set_index(\"date\", drop=False, inplace=True)\n",
    "df_train.head()"
   ]
  },
  {
   "cell_type": "code",
   "execution_count": 46,
   "id": "2857c886",
   "metadata": {},
   "outputs": [
    {
     "data": {
      "text/plain": [
       "<AxesSubplot: xlabel='date'>"
      ]
     },
     "execution_count": 46,
     "metadata": {},
     "output_type": "execute_result"
    },
    {
     "data": {
      "image/png": "[encoded data removed]",
      "text/plain": [
       "<Figure size 1400x700 with 1 Axes>"
      ]
     },
     "metadata": {},
     "output_type": "display_data"
    }
   ],
   "source": [
    "df_train.volume.plot(figsize=(14, 7))"
   ]
  },
  {
   "cell_type": "markdown",
   "id": "9784fc84",
   "metadata": {},
   "source": [
    "**References**:\n",
    "\n",
    "1. [A modern Time Series tutorial](https://www.kaggle.com/code/rohanrao/a-modern-time-series-tutorial)\n",
    "2. [Time Series Modelling & Stock Forecasting in Python](https://github.com/sukritishuk/ML_ZoomCamp_Article)"
   ]
  }
 ],
 "metadata": {
  "kernelspec": {
   "display_name": "Python 3 (ipykernel)",
   "language": "python",
   "name": "python3"
  },
  "language_info": {
   "codemirror_mode": {
    "name": "ipython",
    "version": 3
   },
   "file_extension": ".py",
   "mimetype": "text/x-python",
   "name": "python",
   "nbconvert_exporter": "python",
   "pygments_lexer": "ipython3",
   "version": "3.9.16"
  }
 },
 "nbformat": 4,
 "nbformat_minor": 5
}
